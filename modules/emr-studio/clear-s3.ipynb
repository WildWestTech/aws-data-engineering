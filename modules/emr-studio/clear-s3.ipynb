{
 "cells": [
  {
   "attachments": {},
   "cell_type": "markdown",
   "metadata": {},
   "source": [
    "- Lot's of testing.  \n",
    "- In case I want to drop/re-build EMR Studio, I need to make sure it doesn't contain anything in s3\n",
    "- We still need to delete the workspace manually, but this should help\n"
   ]
  },
  {
   "cell_type": "code",
   "execution_count": 6,
   "metadata": {},
   "outputs": [
    {
     "data": {
      "text/plain": [
       "{'ResponseMetadata': {'RequestId': '0SKTPPHMVSF8Y0EG',\n",
       "  'HostId': 'x5oa2eu2Oj5amvlQe+5Dcsm+Y6cm9GGGH0Cl1bZQdo3v0WF2jPziuVoiayWK0LyGRpPLZ6aMomcsggkSiP97fA==',\n",
       "  'HTTPStatusCode': 200,\n",
       "  'HTTPHeaders': {'x-amz-id-2': 'x5oa2eu2Oj5amvlQe+5Dcsm+Y6cm9GGGH0Cl1bZQdo3v0WF2jPziuVoiayWK0LyGRpPLZ6aMomcsggkSiP97fA==',\n",
       "   'x-amz-request-id': '0SKTPPHMVSF8Y0EG',\n",
       "   'date': 'Mon, 20 Feb 2023 22:36:29 GMT',\n",
       "   'x-amz-bucket-region': 'us-east-1',\n",
       "   'content-type': 'application/xml',\n",
       "   'transfer-encoding': 'chunked',\n",
       "   'server': 'AmazonS3'},\n",
       "  'RetryAttempts': 0},\n",
       " 'IsTruncated': False,\n",
       " 'Marker': '',\n",
       " 'Name': 'wildwesttech-emr-studio-workspace-prod',\n",
       " 'Prefix': '',\n",
       " 'MaxKeys': 1000,\n",
       " 'EncodingType': 'url'}"
      ]
     },
     "execution_count": 6,
     "metadata": {},
     "output_type": "execute_result"
    }
   ],
   "source": [
    "import boto3\n",
    "\n",
    "env = 'prod'\n",
    "bucket_name = f'wildwesttech-emr-studio-workspace-{env}'\n",
    "\n",
    "# Set the profile name to use\n",
    "if env == 'dev':\n",
    "    profile_name = '251863357540_AdministratorAccess'\n",
    "elif env == 'prod':\n",
    "    profile_name = '264940530023_AdministratorAccess'\n",
    "\n",
    "# Create a session with the specified profile\n",
    "session = boto3.Session(profile_name=profile_name)\n",
    "\n",
    "# Use the session to create an S3 client\n",
    "s3 = session.client('s3', region_name='us-east-1')\n",
    "\n",
    "# Get a list of all object keys in the bucket\n",
    "objects = s3.list_objects(Bucket=bucket_name)\n",
    "\n",
    "objects\n"
   ]
  },
  {
   "cell_type": "code",
   "execution_count": 7,
   "metadata": {},
   "outputs": [
    {
     "name": "stdout",
     "output_type": "stream",
     "text": [
      "S3 bucket wildwesttech-emr-studio-workspace-prod is already empty.\n"
     ]
    }
   ],
   "source": [
    "# Check if the bucket contains any objects\n",
    "if 'Contents' in objects:\n",
    "    # Create a list of all object keys to be deleted\n",
    "    keys = [{'Key': obj['Key']} for obj in objects['Contents']]\n",
    "\n",
    "    # Delete all objects from the bucket\n",
    "    s3.delete_objects(Bucket=bucket_name, Delete={'Objects': keys})\n",
    "\n",
    "    print(f\"All objects deleted from S3 bucket {bucket_name}.\")\n",
    "else:\n",
    "    print(f\"S3 bucket {bucket_name} is already empty.\")"
   ]
  },
  {
   "cell_type": "code",
   "execution_count": null,
   "metadata": {},
   "outputs": [],
   "source": []
  }
 ],
 "metadata": {
  "kernelspec": {
   "display_name": "Python 3",
   "language": "python",
   "name": "python3"
  },
  "language_info": {
   "codemirror_mode": {
    "name": "ipython",
    "version": 3
   },
   "file_extension": ".py",
   "mimetype": "text/x-python",
   "name": "python",
   "nbconvert_exporter": "python",
   "pygments_lexer": "ipython3",
   "version": "3.8.10"
  },
  "orig_nbformat": 4,
  "vscode": {
   "interpreter": {
    "hash": "a56e68e8b21bbb46887ba412fc68b77e25464245d8495487d3d7e52ef4fadcf7"
   }
  }
 },
 "nbformat": 4,
 "nbformat_minor": 2
}
