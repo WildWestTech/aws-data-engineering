{
 "cells": [
  {
   "cell_type": "code",
   "execution_count": 2,
   "metadata": {},
   "outputs": [],
   "source": [
    "import requests\n",
    "import json\n",
    "import boto3\n",
    "\n",
    "# Create an EMR client\n",
    "emr = boto3.client('emr', region_name='us-east-1')\n",
    "# Get the cluster ID of the EMR Studio cluster\n",
    "cluster_id = 'j-2914XFEO7SSXX'\n",
    "\n",
    "# Get the Livy server configuration for the EMR Studio cluster\n",
    "response = emr.describe_cluster(\n",
    "    ClusterId=cluster_id\n",
    ")\n",
    "\n",
    "response['Cluster']"
   ]
  },
  {
   "cell_type": "code",
   "execution_count": null,
   "metadata": {},
   "outputs": [],
   "source": []
  }
 ],
 "metadata": {
  "kernelspec": {
   "display_name": "Python 3",
   "language": "python",
   "name": "python3"
  },
  "language_info": {
   "codemirror_mode": {
    "name": "ipython",
    "version": 3
   },
   "file_extension": ".py",
   "mimetype": "text/x-python",
   "name": "python",
   "nbconvert_exporter": "python",
   "pygments_lexer": "ipython3",
   "version": "3.8.10"
  },
  "orig_nbformat": 4,
  "vscode": {
   "interpreter": {
    "hash": "a56e68e8b21bbb46887ba412fc68b77e25464245d8495487d3d7e52ef4fadcf7"
   }
  }
 },
 "nbformat": 4,
 "nbformat_minor": 2
}
