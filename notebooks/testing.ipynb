{
 "cells": [
  {
   "cell_type": "code",
   "execution_count": 6,
   "metadata": {},
   "outputs": [
    {
     "data": {
      "text/plain": [
       "{'Id': 'j-2914XFEO7SSXX',\n",
       " 'Name': 'Default_Cluster',\n",
       " 'Status': {'State': 'WAITING',\n",
       "  'StateChangeReason': {'Message': 'Cluster ready to run steps.'},\n",
       "  'Timeline': {'CreationDateTime': datetime.datetime(2023, 2, 21, 21, 17, 59, 292000, tzinfo=tzlocal()),\n",
       "   'ReadyDateTime': datetime.datetime(2023, 2, 21, 21, 25, 55, 992000, tzinfo=tzlocal())}},\n",
       " 'Ec2InstanceAttributes': {'Ec2SubnetId': 'subnet-099efa89d64903f8b',\n",
       "  'RequestedEc2SubnetIds': ['subnet-099efa89d64903f8b'],\n",
       "  'Ec2AvailabilityZone': 'us-east-1a',\n",
       "  'RequestedEc2AvailabilityZones': [],\n",
       "  'IamInstanceProfile': 'EMR_EC2_Admin_Role',\n",
       "  'EmrManagedMasterSecurityGroup': 'sg-05f2200abcbe840e6',\n",
       "  'EmrManagedSlaveSecurityGroup': 'sg-047a92b5f419e1738',\n",
       "  'ServiceAccessSecurityGroup': 'sg-0af52491ed2fc7fd7',\n",
       "  'AdditionalMasterSecurityGroups': [],\n",
       "  'AdditionalSlaveSecurityGroups': []},\n",
       " 'InstanceCollectionType': 'INSTANCE_GROUP',\n",
       " 'LogUri': 's3n://wildwesttech-logs-dev/elasticmapreduce/',\n",
       " 'ReleaseLabel': 'emr-6.4.0',\n",
       " 'AutoTerminate': False,\n",
       " 'TerminationProtected': False,\n",
       " 'VisibleToAllUsers': True,\n",
       " 'Applications': [{'Name': 'Spark', 'Version': '3.1.2'},\n",
       "  {'Name': 'Livy', 'Version': '0.7.1'},\n",
       "  {'Name': 'JupyterEnterpriseGateway', 'Version': '2.1.0'},\n",
       "  {'Name': 'Hive', 'Version': '3.1.2'},\n",
       "  {'Name': 'Presto', 'Version': '0.254.1'}],\n",
       " 'Tags': [{'Key': 'Value', 'Value': 'CLUSTER_TEMPLATE_IN_JUPYTERLAB_PLUGIN'},\n",
       "  {'Key': 'type', 'Value': 'admin'},\n",
       "  {'Key': 'Key', 'Value': 'creator'}],\n",
       " 'ServiceRole': 'EMR_DefaultRole',\n",
       " 'NormalizedInstanceHours': 0,\n",
       " 'MasterPublicDnsName': 'ip-10-0-2-109.ec2.internal',\n",
       " 'Configurations': [{'Classification': 'presto-connector-hive',\n",
       "   'Properties': {'hive.metastore': 'glue'}},\n",
       "  {'Classification': 'livy-conf',\n",
       "   'Properties': {'livy.server.session.timeout': '8h'}}],\n",
       " 'ScaleDownBehavior': 'TERMINATE_AT_TASK_COMPLETION',\n",
       " 'EbsRootVolumeSize': 15,\n",
       " 'KerberosAttributes': {},\n",
       " 'ClusterArn': 'arn:aws:elasticmapreduce:us-east-1:251863357540:cluster/j-2914XFEO7SSXX',\n",
       " 'StepConcurrencyLevel': 1,\n",
       " 'PlacementGroups': []}"
      ]
     },
     "execution_count": 6,
     "metadata": {},
     "output_type": "execute_result"
    }
   ],
   "source": [
    "import requests\n",
    "import json\n",
    "import boto3\n",
    "\n",
    "# Create an EMR client\n",
    "emr = boto3.client('emr', region_name='us-east-1')\n",
    "# Get the cluster ID of the EMR Studio cluster\n",
    "cluster_id = 'j-2914XFEO7SSXX'\n",
    "\n",
    "# Get the Livy server configuration for the EMR Studio cluster\n",
    "response = emr.describe_cluster(\n",
    "    ClusterId=cluster_id\n",
    ")\n",
    "\n",
    "response['Cluster']"
   ]
  },
  {
   "cell_type": "code",
   "execution_count": null,
   "metadata": {},
   "outputs": [],
   "source": []
  }
 ],
 "metadata": {
  "kernelspec": {
   "display_name": "Python 3",
   "language": "python",
   "name": "python3"
  },
  "language_info": {
   "codemirror_mode": {
    "name": "ipython",
    "version": 3
   },
   "file_extension": ".py",
   "mimetype": "text/x-python",
   "name": "python",
   "nbconvert_exporter": "python",
   "pygments_lexer": "ipython3",
   "version": "3.8.10"
  },
  "orig_nbformat": 4,
  "vscode": {
   "interpreter": {
    "hash": "a56e68e8b21bbb46887ba412fc68b77e25464245d8495487d3d7e52ef4fadcf7"
   }
  }
 },
 "nbformat": 4,
 "nbformat_minor": 2
}
