{
 "cells": [
  {
   "cell_type": "code",
   "execution_count": 1,
   "metadata": {},
   "outputs": [],
   "source": [
    "import boto3\n",
    "import json"
   ]
  },
  {
   "cell_type": "code",
   "execution_count": 2,
   "metadata": {},
   "outputs": [],
   "source": [
    "# Accounts/Environments\n",
    "profiles = {}\n",
    "region = 'us-east-1'\n",
    "profiles['dev']  = '251863357540_AdministratorAccess'\n",
    "profiles['prod'] = '264940530023_AdministratorAccess'"
   ]
  },
  {
   "cell_type": "code",
   "execution_count": 3,
   "metadata": {},
   "outputs": [],
   "source": [
    "env = 'dev'\n",
    "session = boto3.Session(profile_name=profiles[env], region_name= \"us-east-1\")\n",
    "sns = session.client(\"sns\")"
   ]
  },
  {
   "cell_type": "code",
   "execution_count": 4,
   "metadata": {},
   "outputs": [],
   "source": [
    "symbols = ['SPY','DIA','ONEQ']\n",
    "for symbol in symbols:\n",
    "    message = {\"symbol\":f\"{symbol}\"}\n",
    "    response = sns.publish(\n",
    "        TopicArn='arn:aws:sns:us-east-1:251863357540:alphavantage-topic-dev',\n",
    "        Message=json.dumps({'default': json.dumps(message)}),\n",
    "        MessageStructure='json'\n",
    "    )"
   ]
  },
  {
   "cell_type": "code",
   "execution_count": null,
   "metadata": {},
   "outputs": [],
   "source": []
  }
 ],
 "metadata": {
  "kernelspec": {
   "display_name": "Python 3",
   "language": "python",
   "name": "python3"
  },
  "language_info": {
   "codemirror_mode": {
    "name": "ipython",
    "version": 3
   },
   "file_extension": ".py",
   "mimetype": "text/x-python",
   "name": "python",
   "nbconvert_exporter": "python",
   "pygments_lexer": "ipython3",
   "version": "3.8.10"
  },
  "orig_nbformat": 4,
  "vscode": {
   "interpreter": {
    "hash": "a56e68e8b21bbb46887ba412fc68b77e25464245d8495487d3d7e52ef4fadcf7"
   }
  }
 },
 "nbformat": 4,
 "nbformat_minor": 2
}
